{
  "nbformat": 4,
  "nbformat_minor": 0,
  "metadata": {
    "colab": {
      "provenance": []
    },
    "kernelspec": {
      "name": "python3",
      "display_name": "Python 3"
    },
    "language_info": {
      "name": "python"
    }
  },
  "cells": [
    {
      "cell_type": "code",
      "source": [
        "# Considera el problema de determinar si una cadena dada consiste en parentesis\n",
        "# bien formados.\n",
        "# Una cadena de parentesis bien formados es aquella en la que cada parentesis\n",
        "# de apertura ‘(’ tiene un parentesis de cierre correspondiente ‘)’, y estos\n",
        "# ocurren en el orden correcto sin ningún par desparejado.\n",
        "\n",
        "# Declaracion formal del problema:\n",
        "# Dada una cadena S que consiste solo en caracteres ‘(’ y ‘)’, determinar si S\n",
        "# representa una secuencia de parentesis bien formados.\n",
        "\n",
        "def cadena_de_parentesis_bien_formados(s):\n",
        "    \"\"\"\n",
        "    Esta funcion toma una cadena \"s\" como entrada y devuelve un valor booleano\n",
        "    que indica si la cadena representa una secuencia de parentesis bien formados\n",
        "    \"True\" o no \"False\". Utiliza una pila para buscar los paréntesis\n",
        "    de apertura y sus correspondientes cierres (es decir, los mas cercanos).\n",
        "    Si todos los paréntesis de apertura están cerrados y no hay cierres sin\n",
        "    paréntesis de apertura, la función devuelve \"True\", indicando que la cadena\n",
        "    SI representa una secuencia de paréntesis bien formados.\n",
        "    De lo contrario, devuelve \"False\".\n",
        "    \"\"\"\n",
        "    if not s:\n",
        "      return False\n",
        "      # Verifica si la cadena esta vacia, en caso de estarlo retoma el booleano\n",
        "      # \"False\"\n",
        "\n",
        "    pila = []\n",
        "    # Declaracion de la lista vacia \"pila\" que seguira todos los parentesis de\n",
        "    # apertura que se encuentran en la cadena.\n",
        "    for caracter in s:\n",
        "    # Recorrido de la cadena. Se itera sobre cada caracter en la cadena s.\n",
        "        if caracter == \"(\":\n",
        "            pila.append(caracter)\n",
        "            # La funcion de python \"pila.append\" detecta si el caracter es un\n",
        "            # parentesis de apertura \"(\" y si lo es se agrega a la pila.\n",
        "\n",
        "        elif caracter == \")\":\n",
        "            if not pila:\n",
        "                return False\n",
        "                # Si el caracter es un parentesis de cierre ')',\n",
        "                # se verifica si la pila esta vacia. Si lo esta, entonces no\n",
        "                # hay un parentesis de apertura correspondiente lo que devuelve\n",
        "                # un booleano \"False\".\n",
        "            pila.pop()\n",
        "            # La funcion de python \"pila.pop\" detecta si la pila no esta vacia,\n",
        "            # si no lo esta entonces se elimina el ultimo parentesis de apertura\n",
        "            # de la pila, ya que se ha encontrado su parentesis de cierre.\n",
        "        else:\n",
        "            return False\n",
        "            # Si el caracter no pertenece al lenguaje \"(\",\")\",\n",
        "            # el booleano retoma el valor \"False\". En este contexto nos\n",
        "            # referimos a caracter que no pertenece al lenguaje a cualquier\n",
        "            # caracter que no sean parentesis, incluyendo espacios.\n",
        "\n",
        "    return len(pila) == 0\n",
        "    # Verifica si la longitud de la pila es igual a cero, lo que significa que\n",
        "    # la pila esta vacia. Si la pila esta vacia, devuelve el booleano \"True\",\n",
        "    # indicando que todos los parentesis de apertura estan cerrados.\n",
        "\n",
        "cadena = input(\"Ingrese la cadena de parentesis\")\n",
        "# La funcion \"input\" de Python lo que hace es interactuar directamente con el\n",
        "# usuario, muestra un mensaje y espera a que el usuario ingrese una entrada\n",
        "# desde el teclado.\n",
        "\n",
        "if cadena_de_parentesis_bien_formados(cadena):\n",
        "    print(\"La cadena de parentesis esta bien formada.\")\n",
        "else:\n",
        "    print(\"Revise su cadena de parentesis.\")"
      ],
      "metadata": {
        "colab": {
          "base_uri": "https://localhost:8080/"
        },
        "id": "d1ye1yCapn4f",
        "outputId": "616bae13-adec-4fb4-a0f9-bf2d5a695c2b"
      },
      "execution_count": null,
      "outputs": [
        {
          "output_type": "stream",
          "name": "stdout",
          "text": [
            "Ingrese la cadena de parentesis\n",
            "Revise su cadena de parentesis.\n"
          ]
        }
      ]
    }
  ]
}